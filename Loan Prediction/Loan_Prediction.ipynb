{
  "nbformat": 4,
  "nbformat_minor": 0,
  "metadata": {
    "colab": {
      "name": "Loan Prediction.ipynb",
      "version": "0.3.2",
      "provenance": [],
      "collapsed_sections": [],
      "include_colab_link": true
    },
    "kernelspec": {
      "name": "python3",
      "display_name": "Python 3"
    }
  },
  "cells": [
    {
      "cell_type": "markdown",
      "metadata": {
        "id": "view-in-github",
        "colab_type": "text"
      },
      "source": [
        "<a href=\"https://colab.research.google.com/github/jyotz02/Learning/blob/master/Loan%20Prediction/Loan_Prediction.ipynb\" target=\"_parent\"><img src=\"https://colab.research.google.com/assets/colab-badge.svg\" alt=\"Open In Colab\"/></a>"
      ]
    },
    {
      "cell_type": "markdown",
      "metadata": {
        "id": "2LGkK3UFegyg",
        "colab_type": "text"
      },
      "source": [
        "## Problem Statement:\n",
        "\n",
        "Company wants to automate the loan eligibility process (real time) based on customer detail provided while filling online application form. These details are Gender, Marital Status, Education, Number of Dependents, Income, Loan Amount, Credit History and others. To automate this process, they have given a problem to identify the customers segments, those are eligible for loan amount so that they can specifically target these customers. Here they have provided a partial data set."
      ]
    },
    {
      "cell_type": "code",
      "metadata": {
        "id": "LSgy5J9VBIgb",
        "colab_type": "code",
        "outputId": "cafcf24f-00f0-4f28-bc92-f95aefd5f6ed",
        "colab": {
          "base_uri": "https://localhost:8080/",
          "height": 124
        }
      },
      "source": [
        "from google.colab import drive\n",
        "drive.mount('/content/drive')"
      ],
      "execution_count": 0,
      "outputs": [
        {
          "output_type": "stream",
          "text": [
            "Go to this URL in a browser: https://accounts.google.com/o/oauth2/auth?client_id=947318989803-6bn6qk8qdgf4n4g3pfee6491hc0brc4i.apps.googleusercontent.com&redirect_uri=urn%3Aietf%3Awg%3Aoauth%3A2.0%3Aoob&scope=email%20https%3A%2F%2Fwww.googleapis.com%2Fauth%2Fdocs.test%20https%3A%2F%2Fwww.googleapis.com%2Fauth%2Fdrive%20https%3A%2F%2Fwww.googleapis.com%2Fauth%2Fdrive.photos.readonly%20https%3A%2F%2Fwww.googleapis.com%2Fauth%2Fpeopleapi.readonly&response_type=code\n",
            "\n",
            "Enter your authorization code:\n",
            "··········\n",
            "Mounted at /content/drive\n"
          ],
          "name": "stdout"
        }
      ]
    },
    {
      "cell_type": "code",
      "metadata": {
        "id": "53On6mdMBKjH",
        "colab_type": "code",
        "colab": {}
      },
      "source": [
        "import numpy as np\n",
        "import pandas as pd\n",
        "import matplotlib.pyplot as plt\n",
        "import warnings\n",
        "warnings.filterwarnings(\"ignore\")\n",
        "import seaborn as sns"
      ],
      "execution_count": 0,
      "outputs": []
    },
    {
      "cell_type": "code",
      "metadata": {
        "id": "Cwf2BZnZBM0_",
        "colab_type": "code",
        "colab": {}
      },
      "source": [
        "test=pd.read_csv(\"/content/drive/My Drive/dse/loan_prediction/test_lAUu6dG.csv\")\n",
        "train=pd.read_csv(\"/content/drive/My Drive/dse/loan_prediction/train_ctrUa4K.csv\")"
      ],
      "execution_count": 0,
      "outputs": []
    },
    {
      "cell_type": "code",
      "metadata": {
        "id": "tIFsUE6vBg1V",
        "colab_type": "code",
        "outputId": "e841a916-d57a-4dad-be33-fc93bf6c6bdf",
        "colab": {
          "base_uri": "https://localhost:8080/",
          "height": 239
        }
      },
      "source": [
        "train.head()"
      ],
      "execution_count": 0,
      "outputs": [
        {
          "output_type": "execute_result",
          "data": {
            "text/html": [
              "<div>\n",
              "<style scoped>\n",
              "    .dataframe tbody tr th:only-of-type {\n",
              "        vertical-align: middle;\n",
              "    }\n",
              "\n",
              "    .dataframe tbody tr th {\n",
              "        vertical-align: top;\n",
              "    }\n",
              "\n",
              "    .dataframe thead th {\n",
              "        text-align: right;\n",
              "    }\n",
              "</style>\n",
              "<table border=\"1\" class=\"dataframe\">\n",
              "  <thead>\n",
              "    <tr style=\"text-align: right;\">\n",
              "      <th></th>\n",
              "      <th>Loan_ID</th>\n",
              "      <th>Gender</th>\n",
              "      <th>Married</th>\n",
              "      <th>Dependents</th>\n",
              "      <th>Education</th>\n",
              "      <th>Self_Employed</th>\n",
              "      <th>ApplicantIncome</th>\n",
              "      <th>CoapplicantIncome</th>\n",
              "      <th>LoanAmount</th>\n",
              "      <th>Loan_Amount_Term</th>\n",
              "      <th>Credit_History</th>\n",
              "      <th>Property_Area</th>\n",
              "      <th>Loan_Status</th>\n",
              "    </tr>\n",
              "  </thead>\n",
              "  <tbody>\n",
              "    <tr>\n",
              "      <th>0</th>\n",
              "      <td>LP001002</td>\n",
              "      <td>Male</td>\n",
              "      <td>No</td>\n",
              "      <td>0</td>\n",
              "      <td>Graduate</td>\n",
              "      <td>No</td>\n",
              "      <td>5849</td>\n",
              "      <td>0.0</td>\n",
              "      <td>NaN</td>\n",
              "      <td>360.0</td>\n",
              "      <td>1.0</td>\n",
              "      <td>Urban</td>\n",
              "      <td>Y</td>\n",
              "    </tr>\n",
              "    <tr>\n",
              "      <th>1</th>\n",
              "      <td>LP001003</td>\n",
              "      <td>Male</td>\n",
              "      <td>Yes</td>\n",
              "      <td>1</td>\n",
              "      <td>Graduate</td>\n",
              "      <td>No</td>\n",
              "      <td>4583</td>\n",
              "      <td>1508.0</td>\n",
              "      <td>128.0</td>\n",
              "      <td>360.0</td>\n",
              "      <td>1.0</td>\n",
              "      <td>Rural</td>\n",
              "      <td>N</td>\n",
              "    </tr>\n",
              "    <tr>\n",
              "      <th>2</th>\n",
              "      <td>LP001005</td>\n",
              "      <td>Male</td>\n",
              "      <td>Yes</td>\n",
              "      <td>0</td>\n",
              "      <td>Graduate</td>\n",
              "      <td>Yes</td>\n",
              "      <td>3000</td>\n",
              "      <td>0.0</td>\n",
              "      <td>66.0</td>\n",
              "      <td>360.0</td>\n",
              "      <td>1.0</td>\n",
              "      <td>Urban</td>\n",
              "      <td>Y</td>\n",
              "    </tr>\n",
              "    <tr>\n",
              "      <th>3</th>\n",
              "      <td>LP001006</td>\n",
              "      <td>Male</td>\n",
              "      <td>Yes</td>\n",
              "      <td>0</td>\n",
              "      <td>Not Graduate</td>\n",
              "      <td>No</td>\n",
              "      <td>2583</td>\n",
              "      <td>2358.0</td>\n",
              "      <td>120.0</td>\n",
              "      <td>360.0</td>\n",
              "      <td>1.0</td>\n",
              "      <td>Urban</td>\n",
              "      <td>Y</td>\n",
              "    </tr>\n",
              "    <tr>\n",
              "      <th>4</th>\n",
              "      <td>LP001008</td>\n",
              "      <td>Male</td>\n",
              "      <td>No</td>\n",
              "      <td>0</td>\n",
              "      <td>Graduate</td>\n",
              "      <td>No</td>\n",
              "      <td>6000</td>\n",
              "      <td>0.0</td>\n",
              "      <td>141.0</td>\n",
              "      <td>360.0</td>\n",
              "      <td>1.0</td>\n",
              "      <td>Urban</td>\n",
              "      <td>Y</td>\n",
              "    </tr>\n",
              "  </tbody>\n",
              "</table>\n",
              "</div>"
            ],
            "text/plain": [
              "    Loan_ID Gender Married  ... Credit_History Property_Area Loan_Status\n",
              "0  LP001002   Male      No  ...            1.0         Urban           Y\n",
              "1  LP001003   Male     Yes  ...            1.0         Rural           N\n",
              "2  LP001005   Male     Yes  ...            1.0         Urban           Y\n",
              "3  LP001006   Male     Yes  ...            1.0         Urban           Y\n",
              "4  LP001008   Male      No  ...            1.0         Urban           Y\n",
              "\n",
              "[5 rows x 13 columns]"
            ]
          },
          "metadata": {
            "tags": []
          },
          "execution_count": 45
        }
      ]
    },
    {
      "cell_type": "code",
      "metadata": {
        "id": "PFlt65fFBpmo",
        "colab_type": "code",
        "outputId": "a1d2c156-f414-4992-df31-406da42da849",
        "colab": {
          "base_uri": "https://localhost:8080/",
          "height": 35
        }
      },
      "source": [
        "train.shape"
      ],
      "execution_count": 0,
      "outputs": [
        {
          "output_type": "execute_result",
          "data": {
            "text/plain": [
              "(614, 13)"
            ]
          },
          "metadata": {
            "tags": []
          },
          "execution_count": 46
        }
      ]
    },
    {
      "cell_type": "code",
      "metadata": {
        "id": "nuV8yoU_EEQO",
        "colab_type": "code",
        "outputId": "8ccbf03d-6f10-4747-af3d-498d6af2ebca",
        "colab": {
          "base_uri": "https://localhost:8080/",
          "height": 35
        }
      },
      "source": [
        "test.shape"
      ],
      "execution_count": 0,
      "outputs": [
        {
          "output_type": "execute_result",
          "data": {
            "text/plain": [
              "(367, 12)"
            ]
          },
          "metadata": {
            "tags": []
          },
          "execution_count": 47
        }
      ]
    },
    {
      "cell_type": "code",
      "metadata": {
        "id": "9uZdZ4YeCTG2",
        "colab_type": "code",
        "outputId": "6743f518-ed35-431d-a17b-168a5d31190b",
        "colab": {
          "base_uri": "https://localhost:8080/",
          "height": 927
        }
      },
      "source": [
        "sns.pairplot(train,diag_kind='kde')"
      ],
      "execution_count": 0,
      "outputs": [
        {
          "output_type": "execute_result",
          "data": {
            "text/plain": [
              "<seaborn.axisgrid.PairGrid at 0x7f46e8dd4240>"
            ]
          },
          "metadata": {
            "tags": []
          },
          "execution_count": 48
        },
        {
          "output_type": "display_data",
          "data": {
            "image/png": "[encoded data removed]",
            "text/plain": [
              "<Figure size 900x900 with 30 Axes>"
            ]
          },
          "metadata": {
            "tags": []
          }
        }
      ]
    },
    {
      "cell_type": "markdown",
      "metadata": {
        "id": "nJsiq8QZEJVS",
        "colab_type": "text"
      },
      "source": [
        "## Univariate Analysis"
      ]
    },
    {
      "cell_type": "code",
      "metadata": {
        "id": "Y3IGXI--EOIp",
        "colab_type": "code",
        "outputId": "60c948ab-37b6-4d7e-b693-37a7aade7923",
        "colab": {
          "base_uri": "https://localhost:8080/",
          "height": 639
        }
      },
      "source": [
        "plt.figure(1)\n",
        "\n",
        "plt.figure(figsize=[15,10])\n",
        "\n",
        "plt.subplot(221)\n",
        "sns.countplot(x=\"Gender\",data=train)\n",
        "plt.title(\"Countplot-Gender\")\n",
        "\n",
        "plt.subplot(222)\n",
        "sns.countplot(x=\"Married\",data=train)\n",
        "plt.title(\"Countplot-Married\")\n",
        "\n",
        "plt.subplot(223)\n",
        "sns.countplot(x=\"Dependents\",data=train)\n",
        "plt.title(\"Countplot-Dependents\")\n",
        "\n",
        "plt.subplot(224)\n",
        "sns.countplot(x=\"Education\",data=train)\n",
        "plt.title(\"Countplot-Education\")\n",
        "\n",
        "plt.show()"
      ],
      "execution_count": 0,
      "outputs": [
        {
          "output_type": "display_data",
          "data": {
            "text/plain": [
              "<Figure size 432x288 with 0 Axes>"
            ]
          },
          "metadata": {
            "tags": []
          }
        },
        {
          "output_type": "display_data",
          "data": {
            "image/png": "[encoded data removed]",
            "text/plain": [
              "<Figure size 1080x720 with 4 Axes>"
            ]
          },
          "metadata": {
            "tags": []
          }
        }
      ]
    },
    {
      "cell_type": "code",
      "metadata": {
        "id": "_twl9YBYExRC",
        "colab_type": "code",
        "outputId": "eb71a910-e02d-4c1d-eae2-4cc487b0a357",
        "colab": {
          "base_uri": "https://localhost:8080/",
          "height": 640
        }
      },
      "source": [
        "plt.figure(1)\n",
        "\n",
        "plt.figure(figsize=[15,10])\n",
        "\n",
        "plt.subplot(221)\n",
        "sns.countplot(x=\"Self_Employed\",data=train)\n",
        "plt.title(\"Countplot-Self Employed\")\n",
        "\n",
        "plt.subplot(222)\n",
        "sns.countplot(x=\"Property_Area\",data=train)\n",
        "plt.title(\"Countplot-Property_Area\")\n",
        "\n",
        "plt.subplot(223)\n",
        "sns.countplot(x=\"Credit_History\",data=train)\n",
        "plt.title(\"Countplot-Credit_History\")\n",
        "\n",
        "\n",
        "plt.show()    "
      ],
      "execution_count": 0,
      "outputs": [
        {
          "output_type": "display_data",
          "data": {
            "text/plain": [
              "<Figure size 432x288 with 0 Axes>"
            ]
          },
          "metadata": {
            "tags": []
          }
        },
        {
          "output_type": "display_data",
          "data": {
            "image/png": "[encoded data removed]",
            "text/plain": [
              "<Figure size 1080x720 with 3 Axes>"
            ]
          },
          "metadata": {
            "tags": []
          }
        }
      ]
    },
    {
      "cell_type": "markdown",
      "metadata": {
        "id": "WJ5X3npAGDdy",
        "colab_type": "text"
      },
      "source": [
        "# Observation of Independent Categorical var\n",
        "\n",
        "1. More males in comparision to females--- 80% males n 18% females\n",
        "2. Married people count is more in comparision to Bachelors.-- 65% applied for loan are married whereas 34% are unmarried.\n",
        "3. In dependents, count of 0 is more -- 57% people have no dependents\n",
        "4. Level of education is higher -- 78% peoples are grad\n",
        "5. 14% are Self employed whereas 85% people r not\n",
        "6. 84% people have 1 credit score n 16% people have 0s.\n",
        "7. 38 SemiUrban..33% Urban..29% rural"
      ]
    },
    {
      "cell_type": "code",
      "metadata": {
        "id": "DhIXe0YdGeKK",
        "colab_type": "code",
        "outputId": "aa2e56ae-1166-440f-ae8f-9fc3d5e6dca5",
        "colab": {
          "base_uri": "https://localhost:8080/",
          "height": 69
        }
      },
      "source": [
        "# ratio of males n females\n",
        "\n",
        "train.Gender.value_counts(normalize=True)"
      ],
      "execution_count": 0,
      "outputs": [
        {
          "output_type": "execute_result",
          "data": {
            "text/plain": [
              "Male      0.813644\n",
              "Female    0.186356\n",
              "Name: Gender, dtype: float64"
            ]
          },
          "metadata": {
            "tags": []
          },
          "execution_count": 51
        }
      ]
    },
    {
      "cell_type": "code",
      "metadata": {
        "id": "JOLr86GzGsbK",
        "colab_type": "code",
        "outputId": "06453670-9f0c-48be-a994-599876a223c6",
        "colab": {
          "base_uri": "https://localhost:8080/",
          "height": 69
        }
      },
      "source": [
        "train.Married.value_counts(normalize=True)"
      ],
      "execution_count": 0,
      "outputs": [
        {
          "output_type": "execute_result",
          "data": {
            "text/plain": [
              "Yes    0.651391\n",
              "No     0.348609\n",
              "Name: Married, dtype: float64"
            ]
          },
          "metadata": {
            "tags": []
          },
          "execution_count": 52
        }
      ]
    },
    {
      "cell_type": "code",
      "metadata": {
        "id": "VqiblHzbG4q-",
        "colab_type": "code",
        "outputId": "86a5ab98-ab4f-4d21-c645-04e58a9d8492",
        "colab": {
          "base_uri": "https://localhost:8080/",
          "height": 104
        }
      },
      "source": [
        "train.Dependents.value_counts(normalize=True)"
      ],
      "execution_count": 0,
      "outputs": [
        {
          "output_type": "execute_result",
          "data": {
            "text/plain": [
              "0     0.575960\n",
              "1     0.170284\n",
              "2     0.168614\n",
              "3+    0.085142\n",
              "Name: Dependents, dtype: float64"
            ]
          },
          "metadata": {
            "tags": []
          },
          "execution_count": 53
        }
      ]
    },
    {
      "cell_type": "code",
      "metadata": {
        "id": "dE4AOsBFGlUN",
        "colab_type": "code",
        "outputId": "25f2690d-ae1b-4f5c-8ff6-b3a728c7b897",
        "colab": {
          "base_uri": "https://localhost:8080/",
          "height": 69
        }
      },
      "source": [
        "train.Education.value_counts(normalize=True)"
      ],
      "execution_count": 0,
      "outputs": [
        {
          "output_type": "execute_result",
          "data": {
            "text/plain": [
              "Graduate        0.781759\n",
              "Not Graduate    0.218241\n",
              "Name: Education, dtype: float64"
            ]
          },
          "metadata": {
            "tags": []
          },
          "execution_count": 54
        }
      ]
    },
    {
      "cell_type": "markdown",
      "metadata": {
        "id": "EW9dtyePHW1Y",
        "colab_type": "text"
      },
      "source": [
        "## Univariate Numeric fields"
      ]
    },
    {
      "cell_type": "code",
      "metadata": {
        "id": "LV70fWqoHaNB",
        "colab_type": "code",
        "outputId": "07be830d-6c88-41e6-a72f-a78a976282cb",
        "colab": {
          "base_uri": "https://localhost:8080/",
          "height": 239
        }
      },
      "source": [
        "plt.figure(1,figsize=[10,7])\n",
        "\n",
        "plt.subplot(221)\n",
        "sns.distplot(train.ApplicantIncome)\n",
        "\n",
        "\n",
        "plt.subplot(222)\n",
        "train[\"ApplicantIncome\"].plot.box(figsize=[10,7])\n",
        "plt.show()"
      ],
      "execution_count": 0,
      "outputs": [
        {
          "output_type": "display_data",
          "data": {
            "image/png": "[encoded data removed]",
            "text/plain": [
              "<Figure size 720x504 with 2 Axes>"
            ]
          },
          "metadata": {
            "tags": []
          }
        }
      ]
    },
    {
      "cell_type": "code",
      "metadata": {
        "id": "b1yCoaUtHsht",
        "colab_type": "code",
        "outputId": "1bbe1640-cb17-4c1b-e4a8-aa8a74d2acc2",
        "colab": {
          "base_uri": "https://localhost:8080/",
          "height": 173
        }
      },
      "source": [
        "np.log(train.ApplicantIncome).describe()"
      ],
      "execution_count": 0,
      "outputs": [
        {
          "output_type": "execute_result",
          "data": {
            "text/plain": [
              "count    614.000000\n",
              "mean       8.341213\n",
              "std        0.645263\n",
              "min        5.010635\n",
              "25%        7.964677\n",
              "50%        8.246040\n",
              "75%        8.664750\n",
              "max       11.302204\n",
              "Name: ApplicantIncome, dtype: float64"
            ]
          },
          "metadata": {
            "tags": []
          },
          "execution_count": 56
        }
      ]
    },
    {
      "cell_type": "code",
      "metadata": {
        "id": "7eelsNrLJkk2",
        "colab_type": "code",
        "outputId": "d84d5299-172f-45a0-a2ae-7e041a36d801",
        "colab": {
          "base_uri": "https://localhost:8080/",
          "height": 301
        }
      },
      "source": [
        "# Education \n",
        "#sns.boxplot(x='Education',y='ApplicantIncome',data=train)\n",
        "\n",
        "train.boxplot(column=\"ApplicantIncome\", by=\"Education\")\n",
        "plt.suptitle(\" \")\n",
        "plt.show()"
      ],
      "execution_count": 0,
      "outputs": [
        {
          "output_type": "display_data",
          "data": {
            "image/png": "[encoded data removed]",
            "text/plain": [
              "<Figure size 432x288 with 1 Axes>"
            ]
          },
          "metadata": {
            "tags": []
          }
        }
      ]
    },
    {
      "cell_type": "markdown",
      "metadata": {
        "id": "7qY9J3jiNE8f",
        "colab_type": "text"
      },
      "source": [
        "#### Graduates are getting better salary"
      ]
    },
    {
      "cell_type": "code",
      "metadata": {
        "id": "1b2a0LHLKfKi",
        "colab_type": "code",
        "outputId": "8ebf4faf-bac7-4752-bcf4-5646a72a774a",
        "colab": {
          "base_uri": "https://localhost:8080/",
          "height": 329
        }
      },
      "source": [
        "train.info()"
      ],
      "execution_count": 0,
      "outputs": [
        {
          "output_type": "stream",
          "text": [
            "<class 'pandas.core.frame.DataFrame'>\n",
            "RangeIndex: 614 entries, 0 to 613\n",
            "Data columns (total 13 columns):\n",
            "Loan_ID              614 non-null object\n",
            "Gender               601 non-null object\n",
            "Married              611 non-null object\n",
            "Dependents           599 non-null object\n",
            "Education            614 non-null object\n",
            "Self_Employed        582 non-null object\n",
            "ApplicantIncome      614 non-null int64\n",
            "CoapplicantIncome    614 non-null float64\n",
            "LoanAmount           592 non-null float64\n",
            "Loan_Amount_Term     600 non-null float64\n",
            "Credit_History       564 non-null float64\n",
            "Property_Area        614 non-null object\n",
            "Loan_Status          614 non-null object\n",
            "dtypes: float64(4), int64(1), object(8)\n",
            "memory usage: 62.4+ KB\n"
          ],
          "name": "stdout"
        }
      ]
    },
    {
      "cell_type": "code",
      "metadata": {
        "id": "myOpqyxkNcrN",
        "colab_type": "code",
        "outputId": "7614d932-bfea-4ffc-ac94-5f7503512d48",
        "colab": {
          "base_uri": "https://localhost:8080/",
          "height": 585
        }
      },
      "source": [
        "sns.distplot(train[pd.notnull(train.LoanAmount)][\"LoanAmount\"])\n",
        "plt.show()\n",
        "\n",
        "train.boxplot(column=\"LoanAmount\",by=\"Education\")"
      ],
      "execution_count": 0,
      "outputs": [
        {
          "output_type": "display_data",
          "data": {
            "image/png": "[encoded data removed]",
            "text/plain": [
              "<Figure size 432x288 with 1 Axes>"
            ]
          },
          "metadata": {
            "tags": []
          }
        },
        {
          "output_type": "execute_result",
          "data": {
            "text/plain": [
              "<matplotlib.axes._subplots.AxesSubplot at 0x7f46e849cd68>"
            ]
          },
          "metadata": {
            "tags": []
          },
          "execution_count": 59
        },
        {
          "output_type": "display_data",
          "data": {
            "image/png": "[encoded data removed]",
            "text/plain": [
              "<Figure size 432x288 with 1 Axes>"
            ]
          },
          "metadata": {
            "tags": []
          }
        }
      ]
    },
    {
      "cell_type": "code",
      "metadata": {
        "id": "08xnpOxsNiZo",
        "colab_type": "code",
        "outputId": "acfca04a-221b-4926-e999-69d42dc3871d",
        "colab": {
          "base_uri": "https://localhost:8080/",
          "height": 302
        }
      },
      "source": [
        "sns.boxplot(\"Loan_Status\",\"CoapplicantIncome\",data=train)"
      ],
      "execution_count": 0,
      "outputs": [
        {
          "output_type": "execute_result",
          "data": {
            "text/plain": [
              "<matplotlib.axes._subplots.AxesSubplot at 0x7f46e8533080>"
            ]
          },
          "metadata": {
            "tags": []
          },
          "execution_count": 60
        },
        {
          "output_type": "display_data",
          "data": {
            "image/png": "[encoded data removed]",
            "text/plain": [
              "<Figure size 432x288 with 1 Axes>"
            ]
          },
          "metadata": {
            "tags": []
          }
        }
      ]
    },
    {
      "cell_type": "code",
      "metadata": {
        "id": "hwMGdz9vOzTk",
        "colab_type": "code",
        "outputId": "78f5ea8b-ee8c-4aba-94a9-7d8b624a66ad",
        "colab": {
          "base_uri": "https://localhost:8080/",
          "height": 302
        }
      },
      "source": [
        "sns.boxplot(\"Loan_Status\",\"ApplicantIncome\",data=train)"
      ],
      "execution_count": 0,
      "outputs": [
        {
          "output_type": "execute_result",
          "data": {
            "text/plain": [
              "<matplotlib.axes._subplots.AxesSubplot at 0x7f46e850c2b0>"
            ]
          },
          "metadata": {
            "tags": []
          },
          "execution_count": 61
        },
        {
          "output_type": "display_data",
          "data": {
            "image/png": "[encoded data removed]",
            "text/plain": [
              "<Figure size 432x288 with 1 Axes>"
            ]
          },
          "metadata": {
            "tags": []
          }
        }
      ]
    },
    {
      "cell_type": "code",
      "metadata": {
        "id": "YKO4d2UrO-3n",
        "colab_type": "code",
        "outputId": "fb722b8d-3892-4b90-b57e-c6175e7b4120",
        "colab": {
          "base_uri": "https://localhost:8080/",
          "height": 173
        }
      },
      "source": [
        "train.CoapplicantIncome  .describe()"
      ],
      "execution_count": 0,
      "outputs": [
        {
          "output_type": "execute_result",
          "data": {
            "text/plain": [
              "count      614.000000\n",
              "mean      1621.245798\n",
              "std       2926.248369\n",
              "min          0.000000\n",
              "25%          0.000000\n",
              "50%       1188.500000\n",
              "75%       2297.250000\n",
              "max      41667.000000\n",
              "Name: CoapplicantIncome, dtype: float64"
            ]
          },
          "metadata": {
            "tags": []
          },
          "execution_count": 62
        }
      ]
    },
    {
      "cell_type": "markdown",
      "metadata": {
        "id": "HE2iGLR5V5M_",
        "colab_type": "text"
      },
      "source": [
        "## Bivariate Analysis"
      ]
    },
    {
      "cell_type": "code",
      "metadata": {
        "id": "8hfEUhDVV8u1",
        "colab_type": "code",
        "outputId": "0b5eabdc-1f9a-4e33-d5e1-a25e89a09221",
        "colab": {
          "base_uri": "https://localhost:8080/",
          "height": 285
        }
      },
      "source": [
        "sns.boxplot(x='Loan_Status',y=\"ApplicantIncome\",data=train,hue=\"Loan_Status\")\n",
        "plt.show()"
      ],
      "execution_count": 0,
      "outputs": [
        {
          "output_type": "display_data",
          "data": {
            "image/png": "[encoded data removed]",
            "text/plain": [
              "<Figure size 432x288 with 1 Axes>"
            ]
          },
          "metadata": {
            "tags": []
          }
        }
      ]
    },
    {
      "cell_type": "code",
      "metadata": {
        "id": "w5wm0oaGV8yC",
        "colab_type": "code",
        "colab": {}
      },
      "source": [
        ""
      ],
      "execution_count": 0,
      "outputs": []
    },
    {
      "cell_type": "markdown",
      "metadata": {
        "id": "GCWPs3IeWQPS",
        "colab_type": "text"
      },
      "source": [
        "### Good Acceptance for high income"
      ]
    },
    {
      "cell_type": "code",
      "metadata": {
        "id": "JNN8zOOcV81a",
        "colab_type": "code",
        "outputId": "c145d777-ec19-4cf2-f5e2-9947b4870282",
        "colab": {
          "base_uri": "https://localhost:8080/",
          "height": 650
        }
      },
      "source": [
        "# Gender Vs Loan Status\n",
        "\n",
        "gender=pd.crosstab(train.Gender,train.Loan_Status)\n",
        "gender.plot(kind='bar')\n",
        "\n",
        "edu=pd.crosstab(train.Education,train.Loan_Status)\n",
        "edu.plot(kind='bar')"
      ],
      "execution_count": 0,
      "outputs": [
        {
          "output_type": "execute_result",
          "data": {
            "text/plain": [
              "<matplotlib.axes._subplots.AxesSubplot at 0x7f46e85562b0>"
            ]
          },
          "metadata": {
            "tags": []
          },
          "execution_count": 64
        },
        {
          "output_type": "display_data",
          "data": {
            "image/png": "[encoded data removed]",
            "text/plain": [
              "<Figure size 432x288 with 1 Axes>"
            ]
          },
          "metadata": {
            "tags": []
          }
        },
        {
          "output_type": "display_data",
          "data": {
            "image/png": "[encoded data removed]",
            "text/plain": [
              "<Figure size 432x288 with 1 Axes>"
            ]
          },
          "metadata": {
            "tags": []
          }
        }
      ]
    },
    {
      "cell_type": "code",
      "metadata": {
        "id": "O09A24oPXdbY",
        "colab_type": "code",
        "outputId": "5750f4c0-0a31-404c-daee-6985c4e71fb1",
        "colab": {
          "base_uri": "https://localhost:8080/",
          "height": 308
        }
      },
      "source": [
        "credit=pd.crosstab(train.Credit_History,train.Loan_Status)\n",
        "credit.plot(kind='bar')"
      ],
      "execution_count": 0,
      "outputs": [
        {
          "output_type": "execute_result",
          "data": {
            "text/plain": [
              "<matplotlib.axes._subplots.AxesSubplot at 0x7f46e85845f8>"
            ]
          },
          "metadata": {
            "tags": []
          },
          "execution_count": 65
        },
        {
          "output_type": "display_data",
          "data": {
            "image/png": "[encoded data removed]",
            "text/plain": [
              "<Figure size 432x288 with 1 Axes>"
            ]
          },
          "metadata": {
            "tags": []
          }
        }
      ]
    },
    {
      "cell_type": "code",
      "metadata": {
        "id": "hMQVK0RCV845",
        "colab_type": "code",
        "outputId": "62e99757-a2b8-4dd9-b162-00c7d10e4c85",
        "colab": {
          "base_uri": "https://localhost:8080/",
          "height": 346
        }
      },
      "source": [
        "prop=pd.crosstab(train.Property_Area,train.Loan_Status)\n",
        "prop.plot(kind='bar')"
      ],
      "execution_count": 0,
      "outputs": [
        {
          "output_type": "execute_result",
          "data": {
            "text/plain": [
              "<matplotlib.axes._subplots.AxesSubplot at 0x7f46e8754d68>"
            ]
          },
          "metadata": {
            "tags": []
          },
          "execution_count": 66
        },
        {
          "output_type": "display_data",
          "data": {
            "image/png": "[encoded data removed]",
            "text/plain": [
              "<Figure size 432x288 with 1 Axes>"
            ]
          },
          "metadata": {
            "tags": []
          }
        }
      ]
    },
    {
      "cell_type": "markdown",
      "metadata": {
        "id": "_O4TP31bXvlf",
        "colab_type": "text"
      },
      "source": [
        "## Observation :\n",
        "Males get more loan compared to females\n",
        "\n",
        "More educated people get loan\n",
        "\n",
        "High freq of people getting loan with credit history 1\n",
        "\n",
        "Disbursal of loan more in SemiUrban than in Urban"
      ]
    },
    {
      "cell_type": "code",
      "metadata": {
        "id": "IfMN9UV7XE72",
        "colab_type": "code",
        "outputId": "09f257ee-e137-41d7-fb41-9c8d05de1da3",
        "colab": {
          "base_uri": "https://localhost:8080/",
          "height": 104
        }
      },
      "source": [
        "train.Dependents.value_counts()"
      ],
      "execution_count": 0,
      "outputs": [
        {
          "output_type": "execute_result",
          "data": {
            "text/plain": [
              "0     345\n",
              "1     102\n",
              "2     101\n",
              "3+     51\n",
              "Name: Dependents, dtype: int64"
            ]
          },
          "metadata": {
            "tags": []
          },
          "execution_count": 67
        }
      ]
    },
    {
      "cell_type": "code",
      "metadata": {
        "id": "TNF9ly0FYs6D",
        "colab_type": "code",
        "colab": {}
      },
      "source": [
        "# to rectify 3+ with 3\n",
        "train.Dependents.replace(to_replace=\"3+\",value=3,inplace=True)"
      ],
      "execution_count": 0,
      "outputs": []
    },
    {
      "cell_type": "code",
      "metadata": {
        "id": "-_eHU7WtY70h",
        "colab_type": "code",
        "outputId": "c3a9804b-a3f5-4187-f801-89cdaaf0c2c0",
        "colab": {
          "base_uri": "https://localhost:8080/",
          "height": 104
        }
      },
      "source": [
        "train.Dependents.value_counts()"
      ],
      "execution_count": 0,
      "outputs": [
        {
          "output_type": "execute_result",
          "data": {
            "text/plain": [
              "0    345\n",
              "1    102\n",
              "2    101\n",
              "3     51\n",
              "Name: Dependents, dtype: int64"
            ]
          },
          "metadata": {
            "tags": []
          },
          "execution_count": 69
        }
      ]
    },
    {
      "cell_type": "code",
      "metadata": {
        "id": "CXRonhqFY9k1",
        "colab_type": "code",
        "outputId": "efde3522-87a3-4a7d-d250-7424f60dcb24",
        "colab": {
          "base_uri": "https://localhost:8080/",
          "height": 329
        }
      },
      "source": [
        "train.info()"
      ],
      "execution_count": 0,
      "outputs": [
        {
          "output_type": "stream",
          "text": [
            "<class 'pandas.core.frame.DataFrame'>\n",
            "RangeIndex: 614 entries, 0 to 613\n",
            "Data columns (total 13 columns):\n",
            "Loan_ID              614 non-null object\n",
            "Gender               601 non-null object\n",
            "Married              611 non-null object\n",
            "Dependents           599 non-null object\n",
            "Education            614 non-null object\n",
            "Self_Employed        582 non-null object\n",
            "ApplicantIncome      614 non-null int64\n",
            "CoapplicantIncome    614 non-null float64\n",
            "LoanAmount           592 non-null float64\n",
            "Loan_Amount_Term     600 non-null float64\n",
            "Credit_History       564 non-null float64\n",
            "Property_Area        614 non-null object\n",
            "Loan_Status          614 non-null object\n",
            "dtypes: float64(4), int64(1), object(8)\n",
            "memory usage: 62.4+ KB\n"
          ],
          "name": "stdout"
        }
      ]
    },
    {
      "cell_type": "code",
      "metadata": {
        "id": "AhHD46k3ZEkh",
        "colab_type": "code",
        "colab": {}
      },
      "source": [
        "# find the correlation and make heatmap\n",
        "\n",
        "correls=train.corr()"
      ],
      "execution_count": 0,
      "outputs": []
    },
    {
      "cell_type": "code",
      "metadata": {
        "id": "DHHawp3fZhkt",
        "colab_type": "code",
        "outputId": "be89fc95-7d34-4c90-9e8f-90c8eb9b0f57",
        "colab": {
          "base_uri": "https://localhost:8080/",
          "height": 451
        }
      },
      "source": [
        "plt.figure(figsize=[15,7])\n",
        "sns.heatmap(correls,cmap=\"YlGnBu\",annot=True)"
      ],
      "execution_count": 0,
      "outputs": [
        {
          "output_type": "execute_result",
          "data": {
            "text/plain": [
              "<matplotlib.axes._subplots.AxesSubplot at 0x7f46e8784400>"
            ]
          },
          "metadata": {
            "tags": []
          },
          "execution_count": 72
        },
        {
          "output_type": "display_data",
          "data": {
            "image/png": "[encoded data removed]",
            "text/plain": [
              "<Figure size 1080x504 with 2 Axes>"
            ]
          },
          "metadata": {
            "tags": []
          }
        }
      ]
    },
    {
      "cell_type": "code",
      "metadata": {
        "id": "pYBLpn_3Zl0b",
        "colab_type": "code",
        "colab": {}
      },
      "source": [
        "## Missing Values"
      ],
      "execution_count": 0,
      "outputs": []
    },
    {
      "cell_type": "code",
      "metadata": {
        "id": "3d2Tyh3RasL-",
        "colab_type": "code",
        "outputId": "f0f3cd1f-cc28-4a24-c89b-233c547993bc",
        "colab": {
          "base_uri": "https://localhost:8080/",
          "height": 260
        }
      },
      "source": [
        "train.isnull().sum()"
      ],
      "execution_count": 0,
      "outputs": [
        {
          "output_type": "execute_result",
          "data": {
            "text/plain": [
              "Loan_ID               0\n",
              "Gender               13\n",
              "Married               3\n",
              "Dependents           15\n",
              "Education             0\n",
              "Self_Employed        32\n",
              "ApplicantIncome       0\n",
              "CoapplicantIncome     0\n",
              "LoanAmount           22\n",
              "Loan_Amount_Term     14\n",
              "Credit_History       50\n",
              "Property_Area         0\n",
              "Loan_Status           0\n",
              "dtype: int64"
            ]
          },
          "metadata": {
            "tags": []
          },
          "execution_count": 74
        }
      ]
    },
    {
      "cell_type": "code",
      "metadata": {
        "id": "nR64fe4fawgv",
        "colab_type": "code",
        "outputId": "1bce4eae-9bd0-408d-844f-44489278d4ae",
        "colab": {
          "base_uri": "https://localhost:8080/",
          "height": 69
        }
      },
      "source": [
        "train.Gender.value_counts()"
      ],
      "execution_count": 0,
      "outputs": [
        {
          "output_type": "execute_result",
          "data": {
            "text/plain": [
              "Male      489\n",
              "Female    112\n",
              "Name: Gender, dtype: int64"
            ]
          },
          "metadata": {
            "tags": []
          },
          "execution_count": 75
        }
      ]
    },
    {
      "cell_type": "code",
      "metadata": {
        "id": "LlvnKwoebfbP",
        "colab_type": "code",
        "colab": {}
      },
      "source": [
        "train[\"Gender\"].fillna(train.Gender.mode()[0],inplace=True)\n",
        "train[\"Married\"].fillna(train.Married.mode()[0],inplace=True)\n",
        "train[\"Dependents\"].fillna(train.Dependents.mode()[0],inplace=True)\n",
        "train[\"Self_Employed\"].fillna(train.Self_Employed.mode()[0],inplace=True)\n",
        "train[\"Credit_History\"].fillna(train.Credit_History.mode()[0],inplace=True)\n",
        "train[\"Loan_Amount_Term\"].fillna(train.Loan_Amount_Term.mode()[0],inplace=True)"
      ],
      "execution_count": 0,
      "outputs": []
    },
    {
      "cell_type": "code",
      "metadata": {
        "id": "IcvWXFxwcJqR",
        "colab_type": "code",
        "colab": {}
      },
      "source": [
        "test[\"Gender\"].fillna(test.Gender.mode()[0],inplace=True)\n",
        "test[\"Married\"].fillna(test.Married.mode()[0],inplace=True)\n",
        "test[\"Dependents\"].fillna(test.Dependents.mode()[0],inplace=True)\n",
        "test[\"Self_Employed\"].fillna(test.Self_Employed.mode()[0],inplace=True)\n",
        "test[\"Credit_History\"].fillna(test.Credit_History.mode()[0],inplace=True)\n",
        "test[\"Loan_Amount_Term\"].fillna(test.Loan_Amount_Term.mode()[0],inplace=True)"
      ],
      "execution_count": 0,
      "outputs": []
    },
    {
      "cell_type": "code",
      "metadata": {
        "id": "CBwd_1_Xc-jk",
        "colab_type": "code",
        "colab": {}
      },
      "source": [
        "train.LoanAmount.fillna(128,inplace=True)"
      ],
      "execution_count": 0,
      "outputs": []
    },
    {
      "cell_type": "code",
      "metadata": {
        "id": "KgVDliH4dbIc",
        "colab_type": "code",
        "colab": {}
      },
      "source": [
        "test.LoanAmount.fillna(125,inplace=True)"
      ],
      "execution_count": 0,
      "outputs": []
    },
    {
      "cell_type": "code",
      "metadata": {
        "id": "TcLF1azOdNad",
        "colab_type": "code",
        "outputId": "4d1de5dc-7914-4dd5-ae76-f4269226866b",
        "colab": {
          "base_uri": "https://localhost:8080/",
          "height": 173
        }
      },
      "source": [
        "test.LoanAmount.describe()"
      ],
      "execution_count": 0,
      "outputs": [
        {
          "output_type": "execute_result",
          "data": {
            "text/plain": [
              "count    367.000000\n",
              "mean     135.980926\n",
              "std       60.959739\n",
              "min       28.000000\n",
              "25%      101.000000\n",
              "50%      125.000000\n",
              "75%      157.500000\n",
              "max      550.000000\n",
              "Name: LoanAmount, dtype: float64"
            ]
          },
          "metadata": {
            "tags": []
          },
          "execution_count": 80
        }
      ]
    },
    {
      "cell_type": "markdown",
      "metadata": {
        "id": "WKEnvFD3dtR_",
        "colab_type": "text"
      },
      "source": [
        "## Feature Engg"
      ]
    },
    {
      "cell_type": "code",
      "metadata": {
        "id": "Rq58zGsVdvvG",
        "colab_type": "code",
        "outputId": "e1ceb5d1-9e86-44c7-d5b8-b21d4e1bccbb",
        "colab": {
          "base_uri": "https://localhost:8080/",
          "height": 239
        }
      },
      "source": [
        "train.head()"
      ],
      "execution_count": 0,
      "outputs": [
        {
          "output_type": "execute_result",
          "data": {
            "text/html": [
              "<div>\n",
              "<style scoped>\n",
              "    .dataframe tbody tr th:only-of-type {\n",
              "        vertical-align: middle;\n",
              "    }\n",
              "\n",
              "    .dataframe tbody tr th {\n",
              "        vertical-align: top;\n",
              "    }\n",
              "\n",
              "    .dataframe thead th {\n",
              "        text-align: right;\n",
              "    }\n",
              "</style>\n",
              "<table border=\"1\" class=\"dataframe\">\n",
              "  <thead>\n",
              "    <tr style=\"text-align: right;\">\n",
              "      <th></th>\n",
              "      <th>Loan_ID</th>\n",
              "      <th>Gender</th>\n",
              "      <th>Married</th>\n",
              "      <th>Dependents</th>\n",
              "      <th>Education</th>\n",
              "      <th>Self_Employed</th>\n",
              "      <th>ApplicantIncome</th>\n",
              "      <th>CoapplicantIncome</th>\n",
              "      <th>LoanAmount</th>\n",
              "      <th>Loan_Amount_Term</th>\n",
              "      <th>Credit_History</th>\n",
              "      <th>Property_Area</th>\n",
              "      <th>Loan_Status</th>\n",
              "    </tr>\n",
              "  </thead>\n",
              "  <tbody>\n",
              "    <tr>\n",
              "      <th>0</th>\n",
              "      <td>LP001002</td>\n",
              "      <td>Male</td>\n",
              "      <td>No</td>\n",
              "      <td>0</td>\n",
              "      <td>Graduate</td>\n",
              "      <td>No</td>\n",
              "      <td>5849</td>\n",
              "      <td>0.0</td>\n",
              "      <td>128.0</td>\n",
              "      <td>360.0</td>\n",
              "      <td>1.0</td>\n",
              "      <td>Urban</td>\n",
              "      <td>1</td>\n",
              "    </tr>\n",
              "    <tr>\n",
              "      <th>1</th>\n",
              "      <td>LP001003</td>\n",
              "      <td>Male</td>\n",
              "      <td>Yes</td>\n",
              "      <td>1</td>\n",
              "      <td>Graduate</td>\n",
              "      <td>No</td>\n",
              "      <td>4583</td>\n",
              "      <td>1508.0</td>\n",
              "      <td>128.0</td>\n",
              "      <td>360.0</td>\n",
              "      <td>1.0</td>\n",
              "      <td>Rural</td>\n",
              "      <td>0</td>\n",
              "    </tr>\n",
              "    <tr>\n",
              "      <th>2</th>\n",
              "      <td>LP001005</td>\n",
              "      <td>Male</td>\n",
              "      <td>Yes</td>\n",
              "      <td>0</td>\n",
              "      <td>Graduate</td>\n",
              "      <td>Yes</td>\n",
              "      <td>3000</td>\n",
              "      <td>0.0</td>\n",
              "      <td>66.0</td>\n",
              "      <td>360.0</td>\n",
              "      <td>1.0</td>\n",
              "      <td>Urban</td>\n",
              "      <td>1</td>\n",
              "    </tr>\n",
              "    <tr>\n",
              "      <th>3</th>\n",
              "      <td>LP001006</td>\n",
              "      <td>Male</td>\n",
              "      <td>Yes</td>\n",
              "      <td>0</td>\n",
              "      <td>Not Graduate</td>\n",
              "      <td>No</td>\n",
              "      <td>2583</td>\n",
              "      <td>2358.0</td>\n",
              "      <td>120.0</td>\n",
              "      <td>360.0</td>\n",
              "      <td>1.0</td>\n",
              "      <td>Urban</td>\n",
              "      <td>1</td>\n",
              "    </tr>\n",
              "    <tr>\n",
              "      <th>4</th>\n",
              "      <td>LP001008</td>\n",
              "      <td>Male</td>\n",
              "      <td>No</td>\n",
              "      <td>0</td>\n",
              "      <td>Graduate</td>\n",
              "      <td>No</td>\n",
              "      <td>6000</td>\n",
              "      <td>0.0</td>\n",
              "      <td>141.0</td>\n",
              "      <td>360.0</td>\n",
              "      <td>1.0</td>\n",
              "      <td>Urban</td>\n",
              "      <td>1</td>\n",
              "    </tr>\n",
              "  </tbody>\n",
              "</table>\n",
              "</div>"
            ],
            "text/plain": [
              "    Loan_ID Gender Married  ... Credit_History Property_Area Loan_Status\n",
              "0  LP001002   Male      No  ...            1.0         Urban           1\n",
              "1  LP001003   Male     Yes  ...            1.0         Rural           0\n",
              "2  LP001005   Male     Yes  ...            1.0         Urban           1\n",
              "3  LP001006   Male     Yes  ...            1.0         Urban           1\n",
              "4  LP001008   Male      No  ...            1.0         Urban           1\n",
              "\n",
              "[5 rows x 13 columns]"
            ]
          },
          "metadata": {
            "tags": []
          },
          "execution_count": 87
        }
      ]
    },
    {
      "cell_type": "code",
      "metadata": {
        "id": "9bNN4L_xczwx",
        "colab_type": "code",
        "colab": {}
      },
      "source": [
        "def loan_stat(x):\n",
        "  if(x=='Y'):\n",
        "    return(1)\n",
        "  else:\n",
        "    return(0)"
      ],
      "execution_count": 0,
      "outputs": []
    },
    {
      "cell_type": "code",
      "metadata": {
        "id": "3hG_DHy9c76h",
        "colab_type": "code",
        "colab": {}
      },
      "source": [
        "train['Loan_Status']=train.Loan_Status.apply(loan_stat)"
      ],
      "execution_count": 0,
      "outputs": []
    },
    {
      "cell_type": "code",
      "metadata": {
        "id": "wM7IQP4hdNMh",
        "colab_type": "code",
        "outputId": "caf11b03-aebf-4fc9-baec-3d9fc4590ad1",
        "colab": {
          "base_uri": "https://localhost:8080/",
          "height": 1000
        }
      },
      "source": [
        "train.Loan_ID.value_counts()"
      ],
      "execution_count": 0,
      "outputs": [
        {
          "output_type": "execute_result",
          "data": {
            "text/plain": [
              "LP002139    1\n",
              "LP002341    1\n",
              "LP001265    1\n",
              "LP002409    1\n",
              "LP001900    1\n",
              "LP002940    1\n",
              "LP001008    1\n",
              "LP001732    1\n",
              "LP002478    1\n",
              "LP001882    1\n",
              "LP001243    1\n",
              "LP001877    1\n",
              "LP001872    1\n",
              "LP001370    1\n",
              "LP002777    1\n",
              "LP001580    1\n",
              "LP001255    1\n",
              "LP002103    1\n",
              "LP002377    1\n",
              "LP001087    1\n",
              "LP001520    1\n",
              "LP002537    1\n",
              "LP001205    1\n",
              "LP001692    1\n",
              "LP001565    1\n",
              "LP001726    1\n",
              "LP001263    1\n",
              "LP001907    1\n",
              "LP001868    1\n",
              "LP001030    1\n",
              "           ..\n",
              "LP002337    1\n",
              "LP002689    1\n",
              "LP001345    1\n",
              "LP001002    1\n",
              "LP001990    1\n",
              "LP002582    1\n",
              "LP002792    1\n",
              "LP001758    1\n",
              "LP001908    1\n",
              "LP002180    1\n",
              "LP001658    1\n",
              "LP002284    1\n",
              "LP001888    1\n",
              "LP002541    1\n",
              "LP002522    1\n",
              "LP002544    1\n",
              "LP002622    1\n",
              "LP002272    1\n",
              "LP002467    1\n",
              "LP002087    1\n",
              "LP001279    1\n",
              "LP002732    1\n",
              "LP002255    1\n",
              "LP002205    1\n",
              "LP001865    1\n",
              "LP001207    1\n",
              "LP001316    1\n",
              "LP002347    1\n",
              "LP002263    1\n",
              "LP001334    1\n",
              "Name: Loan_ID, Length: 614, dtype: int64"
            ]
          },
          "metadata": {
            "tags": []
          },
          "execution_count": 88
        }
      ]
    },
    {
      "cell_type": "markdown",
      "metadata": {
        "id": "6o3lC1WFLBJx",
        "colab_type": "text"
      },
      "source": [
        "## Create a new colm EMI"
      ]
    },
    {
      "cell_type": "code",
      "metadata": {
        "id": "rrN_3NviKUBm",
        "colab_type": "code",
        "colab": {}
      },
      "source": [
        "train[\"EMI\"]=round((train.LoanAmount*1000)/train.Loan_Amount_Term,2)"
      ],
      "execution_count": 0,
      "outputs": []
    },
    {
      "cell_type": "code",
      "metadata": {
        "id": "T5pZepF9ScOx",
        "colab_type": "code",
        "colab": {}
      },
      "source": [
        "test[\"EMI\"]=round((test.LoanAmount*1000)/test.Loan_Amount_Term,2)"
      ],
      "execution_count": 0,
      "outputs": []
    },
    {
      "cell_type": "code",
      "metadata": {
        "id": "szyGDHtYLYIt",
        "colab_type": "code",
        "outputId": "27977280-21cf-4e9a-d1ee-eca433511cb1",
        "colab": {
          "base_uri": "https://localhost:8080/",
          "height": 258
        }
      },
      "source": [
        "plt.figure(1)\n",
        "\n",
        "plt.figure(figsize=[10,7])\n",
        "plt.subplot(221)\n",
        "sns.distplot(np.log(train.LoanAmount))\n",
        "\n",
        "plt.subplot(222)\n",
        "sns.distplot(train.Loan_Amount_Term)\n",
        "plt.show()"
      ],
      "execution_count": 0,
      "outputs": [
        {
          "output_type": "display_data",
          "data": {
            "text/plain": [
              "<Figure size 432x288 with 0 Axes>"
            ]
          },
          "metadata": {
            "tags": []
          }
        },
        {
          "output_type": "display_data",
          "data": {
            "image/png": "[encoded data removed]",
            "text/plain": [
              "<Figure size 720x504 with 2 Axes>"
            ]
          },
          "metadata": {
            "tags": []
          }
        }
      ]
    },
    {
      "cell_type": "code",
      "metadata": {
        "id": "anasT42YLpqf",
        "colab_type": "code",
        "colab": {}
      },
      "source": [
        "train[\"LoanAmount_Log\"]=np.log(train.LoanAmount)"
      ],
      "execution_count": 0,
      "outputs": []
    },
    {
      "cell_type": "code",
      "metadata": {
        "id": "fU21KZxbSh4F",
        "colab_type": "code",
        "colab": {}
      },
      "source": [
        "test[\"LoanAmount_Log\"]=np.log(test.LoanAmount)"
      ],
      "execution_count": 0,
      "outputs": []
    },
    {
      "cell_type": "code",
      "metadata": {
        "id": "2uL6lh8CMS8w",
        "colab_type": "code",
        "colab": {}
      },
      "source": [
        "train[\"EMI_log\"]=np.log(train.EMI)"
      ],
      "execution_count": 0,
      "outputs": []
    },
    {
      "cell_type": "code",
      "metadata": {
        "id": "taJqay1dSlUz",
        "colab_type": "code",
        "colab": {}
      },
      "source": [
        "test[\"EMI_log\"]=np.log(test.EMI)"
      ],
      "execution_count": 0,
      "outputs": []
    },
    {
      "cell_type": "code",
      "metadata": {
        "id": "vgtxpA6sMY_h",
        "colab_type": "code",
        "outputId": "1b965de9-eefa-4b34-b771-6fc150c6f5a2",
        "colab": {
          "base_uri": "https://localhost:8080/",
          "height": 239
        }
      },
      "source": [
        "train.head()"
      ],
      "execution_count": 0,
      "outputs": [
        {
          "output_type": "execute_result",
          "data": {
            "text/html": [
              "<div>\n",
              "<style scoped>\n",
              "    .dataframe tbody tr th:only-of-type {\n",
              "        vertical-align: middle;\n",
              "    }\n",
              "\n",
              "    .dataframe tbody tr th {\n",
              "        vertical-align: top;\n",
              "    }\n",
              "\n",
              "    .dataframe thead th {\n",
              "        text-align: right;\n",
              "    }\n",
              "</style>\n",
              "<table border=\"1\" class=\"dataframe\">\n",
              "  <thead>\n",
              "    <tr style=\"text-align: right;\">\n",
              "      <th></th>\n",
              "      <th>Loan_ID</th>\n",
              "      <th>Gender</th>\n",
              "      <th>Married</th>\n",
              "      <th>Dependents</th>\n",
              "      <th>Education</th>\n",
              "      <th>Self_Employed</th>\n",
              "      <th>ApplicantIncome</th>\n",
              "      <th>CoapplicantIncome</th>\n",
              "      <th>LoanAmount</th>\n",
              "      <th>Loan_Amount_Term</th>\n",
              "      <th>Credit_History</th>\n",
              "      <th>Property_Area</th>\n",
              "      <th>Loan_Status</th>\n",
              "      <th>EMI</th>\n",
              "      <th>LoanAmount_Log</th>\n",
              "      <th>EMI_log</th>\n",
              "      <th>Total_Income</th>\n",
              "      <th>Total_Income_log</th>\n",
              "    </tr>\n",
              "  </thead>\n",
              "  <tbody>\n",
              "    <tr>\n",
              "      <th>0</th>\n",
              "      <td>LP001002</td>\n",
              "      <td>Male</td>\n",
              "      <td>No</td>\n",
              "      <td>0</td>\n",
              "      <td>Graduate</td>\n",
              "      <td>No</td>\n",
              "      <td>5849</td>\n",
              "      <td>0.0</td>\n",
              "      <td>128.0</td>\n",
              "      <td>360.0</td>\n",
              "      <td>1.0</td>\n",
              "      <td>Urban</td>\n",
              "      <td>1</td>\n",
              "      <td>355.56</td>\n",
              "      <td>4.852030</td>\n",
              "      <td>5.873694</td>\n",
              "      <td>5849.0</td>\n",
              "      <td>8.674026</td>\n",
              "    </tr>\n",
              "    <tr>\n",
              "      <th>1</th>\n",
              "      <td>LP001003</td>\n",
              "      <td>Male</td>\n",
              "      <td>Yes</td>\n",
              "      <td>1</td>\n",
              "      <td>Graduate</td>\n",
              "      <td>No</td>\n",
              "      <td>4583</td>\n",
              "      <td>1508.0</td>\n",
              "      <td>128.0</td>\n",
              "      <td>360.0</td>\n",
              "      <td>1.0</td>\n",
              "      <td>Rural</td>\n",
              "      <td>0</td>\n",
              "      <td>355.56</td>\n",
              "      <td>4.852030</td>\n",
              "      <td>5.873694</td>\n",
              "      <td>6091.0</td>\n",
              "      <td>8.714568</td>\n",
              "    </tr>\n",
              "    <tr>\n",
              "      <th>2</th>\n",
              "      <td>LP001005</td>\n",
              "      <td>Male</td>\n",
              "      <td>Yes</td>\n",
              "      <td>0</td>\n",
              "      <td>Graduate</td>\n",
              "      <td>Yes</td>\n",
              "      <td>3000</td>\n",
              "      <td>0.0</td>\n",
              "      <td>66.0</td>\n",
              "      <td>360.0</td>\n",
              "      <td>1.0</td>\n",
              "      <td>Urban</td>\n",
              "      <td>1</td>\n",
              "      <td>183.33</td>\n",
              "      <td>4.189655</td>\n",
              "      <td>5.211288</td>\n",
              "      <td>3000.0</td>\n",
              "      <td>8.006368</td>\n",
              "    </tr>\n",
              "    <tr>\n",
              "      <th>3</th>\n",
              "      <td>LP001006</td>\n",
              "      <td>Male</td>\n",
              "      <td>Yes</td>\n",
              "      <td>0</td>\n",
              "      <td>Not Graduate</td>\n",
              "      <td>No</td>\n",
              "      <td>2583</td>\n",
              "      <td>2358.0</td>\n",
              "      <td>120.0</td>\n",
              "      <td>360.0</td>\n",
              "      <td>1.0</td>\n",
              "      <td>Urban</td>\n",
              "      <td>1</td>\n",
              "      <td>333.33</td>\n",
              "      <td>4.787492</td>\n",
              "      <td>5.809133</td>\n",
              "      <td>4941.0</td>\n",
              "      <td>8.505323</td>\n",
              "    </tr>\n",
              "    <tr>\n",
              "      <th>4</th>\n",
              "      <td>LP001008</td>\n",
              "      <td>Male</td>\n",
              "      <td>No</td>\n",
              "      <td>0</td>\n",
              "      <td>Graduate</td>\n",
              "      <td>No</td>\n",
              "      <td>6000</td>\n",
              "      <td>0.0</td>\n",
              "      <td>141.0</td>\n",
              "      <td>360.0</td>\n",
              "      <td>1.0</td>\n",
              "      <td>Urban</td>\n",
              "      <td>1</td>\n",
              "      <td>391.67</td>\n",
              "      <td>4.948760</td>\n",
              "      <td>5.970420</td>\n",
              "      <td>6000.0</td>\n",
              "      <td>8.699515</td>\n",
              "    </tr>\n",
              "  </tbody>\n",
              "</table>\n",
              "</div>"
            ],
            "text/plain": [
              "    Loan_ID Gender Married  ...   EMI_log Total_Income Total_Income_log\n",
              "0  LP001002   Male      No  ...  5.873694       5849.0         8.674026\n",
              "1  LP001003   Male     Yes  ...  5.873694       6091.0         8.714568\n",
              "2  LP001005   Male     Yes  ...  5.211288       3000.0         8.006368\n",
              "3  LP001006   Male     Yes  ...  5.809133       4941.0         8.505323\n",
              "4  LP001008   Male      No  ...  5.970420       6000.0         8.699515\n",
              "\n",
              "[5 rows x 18 columns]"
            ]
          },
          "metadata": {
            "tags": []
          },
          "execution_count": 108
        }
      ]
    },
    {
      "cell_type": "code",
      "metadata": {
        "id": "oZhmHsTrSxmG",
        "colab_type": "code",
        "outputId": "1e73801c-af0b-4fde-81a7-395c3a09eab4",
        "colab": {
          "base_uri": "https://localhost:8080/",
          "height": 239
        }
      },
      "source": [
        "test.head()"
      ],
      "execution_count": 0,
      "outputs": [
        {
          "output_type": "execute_result",
          "data": {
            "text/html": [
              "<div>\n",
              "<style scoped>\n",
              "    .dataframe tbody tr th:only-of-type {\n",
              "        vertical-align: middle;\n",
              "    }\n",
              "\n",
              "    .dataframe tbody tr th {\n",
              "        vertical-align: top;\n",
              "    }\n",
              "\n",
              "    .dataframe thead th {\n",
              "        text-align: right;\n",
              "    }\n",
              "</style>\n",
              "<table border=\"1\" class=\"dataframe\">\n",
              "  <thead>\n",
              "    <tr style=\"text-align: right;\">\n",
              "      <th></th>\n",
              "      <th>Loan_ID</th>\n",
              "      <th>Gender</th>\n",
              "      <th>Married</th>\n",
              "      <th>Dependents</th>\n",
              "      <th>Education</th>\n",
              "      <th>Self_Employed</th>\n",
              "      <th>ApplicantIncome</th>\n",
              "      <th>CoapplicantIncome</th>\n",
              "      <th>LoanAmount</th>\n",
              "      <th>Loan_Amount_Term</th>\n",
              "      <th>Credit_History</th>\n",
              "      <th>Property_Area</th>\n",
              "      <th>EMI</th>\n",
              "      <th>LoanAmount_Log</th>\n",
              "      <th>EMI_log</th>\n",
              "      <th>Total_Income</th>\n",
              "    </tr>\n",
              "  </thead>\n",
              "  <tbody>\n",
              "    <tr>\n",
              "      <th>0</th>\n",
              "      <td>LP001015</td>\n",
              "      <td>Male</td>\n",
              "      <td>Yes</td>\n",
              "      <td>0</td>\n",
              "      <td>Graduate</td>\n",
              "      <td>No</td>\n",
              "      <td>5720</td>\n",
              "      <td>0</td>\n",
              "      <td>110.0</td>\n",
              "      <td>360.0</td>\n",
              "      <td>1.0</td>\n",
              "      <td>Urban</td>\n",
              "      <td>305.56</td>\n",
              "      <td>4.700480</td>\n",
              "      <td>5.722146</td>\n",
              "      <td>5720</td>\n",
              "    </tr>\n",
              "    <tr>\n",
              "      <th>1</th>\n",
              "      <td>LP001022</td>\n",
              "      <td>Male</td>\n",
              "      <td>Yes</td>\n",
              "      <td>1</td>\n",
              "      <td>Graduate</td>\n",
              "      <td>No</td>\n",
              "      <td>3076</td>\n",
              "      <td>1500</td>\n",
              "      <td>126.0</td>\n",
              "      <td>360.0</td>\n",
              "      <td>1.0</td>\n",
              "      <td>Urban</td>\n",
              "      <td>350.00</td>\n",
              "      <td>4.836282</td>\n",
              "      <td>5.857933</td>\n",
              "      <td>4576</td>\n",
              "    </tr>\n",
              "    <tr>\n",
              "      <th>2</th>\n",
              "      <td>LP001031</td>\n",
              "      <td>Male</td>\n",
              "      <td>Yes</td>\n",
              "      <td>2</td>\n",
              "      <td>Graduate</td>\n",
              "      <td>No</td>\n",
              "      <td>5000</td>\n",
              "      <td>1800</td>\n",
              "      <td>208.0</td>\n",
              "      <td>360.0</td>\n",
              "      <td>1.0</td>\n",
              "      <td>Urban</td>\n",
              "      <td>577.78</td>\n",
              "      <td>5.337538</td>\n",
              "      <td>6.359193</td>\n",
              "      <td>6800</td>\n",
              "    </tr>\n",
              "    <tr>\n",
              "      <th>3</th>\n",
              "      <td>LP001035</td>\n",
              "      <td>Male</td>\n",
              "      <td>Yes</td>\n",
              "      <td>2</td>\n",
              "      <td>Graduate</td>\n",
              "      <td>No</td>\n",
              "      <td>2340</td>\n",
              "      <td>2546</td>\n",
              "      <td>100.0</td>\n",
              "      <td>360.0</td>\n",
              "      <td>1.0</td>\n",
              "      <td>Urban</td>\n",
              "      <td>277.78</td>\n",
              "      <td>4.605170</td>\n",
              "      <td>5.626829</td>\n",
              "      <td>4886</td>\n",
              "    </tr>\n",
              "    <tr>\n",
              "      <th>4</th>\n",
              "      <td>LP001051</td>\n",
              "      <td>Male</td>\n",
              "      <td>No</td>\n",
              "      <td>0</td>\n",
              "      <td>Not Graduate</td>\n",
              "      <td>No</td>\n",
              "      <td>3276</td>\n",
              "      <td>0</td>\n",
              "      <td>78.0</td>\n",
              "      <td>360.0</td>\n",
              "      <td>1.0</td>\n",
              "      <td>Urban</td>\n",
              "      <td>216.67</td>\n",
              "      <td>4.356709</td>\n",
              "      <td>5.378375</td>\n",
              "      <td>3276</td>\n",
              "    </tr>\n",
              "  </tbody>\n",
              "</table>\n",
              "</div>"
            ],
            "text/plain": [
              "    Loan_ID Gender Married  ... LoanAmount_Log   EMI_log Total_Income\n",
              "0  LP001015   Male     Yes  ...       4.700480  5.722146         5720\n",
              "1  LP001022   Male     Yes  ...       4.836282  5.857933         4576\n",
              "2  LP001031   Male     Yes  ...       5.337538  6.359193         6800\n",
              "3  LP001035   Male     Yes  ...       4.605170  5.626829         4886\n",
              "4  LP001051   Male      No  ...       4.356709  5.378375         3276\n",
              "\n",
              "[5 rows x 16 columns]"
            ]
          },
          "metadata": {
            "tags": []
          },
          "execution_count": 113
        }
      ]
    },
    {
      "cell_type": "code",
      "metadata": {
        "id": "wQvrKPl9Ma1E",
        "colab_type": "code",
        "outputId": "92ef5c64-2657-4ecd-b371-51cdd7e52eac",
        "colab": {
          "base_uri": "https://localhost:8080/",
          "height": 173
        }
      },
      "source": [
        "train.LoanAmount_Log.describe()"
      ],
      "execution_count": 0,
      "outputs": [
        {
          "output_type": "execute_result",
          "data": {
            "text/plain": [
              "count    614.000000\n",
              "mean       4.857250\n",
              "std        0.495996\n",
              "min        2.197225\n",
              "25%        4.607658\n",
              "50%        4.852030\n",
              "75%        5.104426\n",
              "max        6.551080\n",
              "Name: LoanAmount_Log, dtype: float64"
            ]
          },
          "metadata": {
            "tags": []
          },
          "execution_count": 100
        }
      ]
    },
    {
      "cell_type": "code",
      "metadata": {
        "id": "S_4Y4m3aMmVI",
        "colab_type": "code",
        "colab": {}
      },
      "source": [
        "#Total income\n",
        "\n",
        "train[\"Total_Income\"]=train.ApplicantIncome+train.CoapplicantIncome"
      ],
      "execution_count": 0,
      "outputs": []
    },
    {
      "cell_type": "code",
      "metadata": {
        "id": "Hn0SZMOkSqUn",
        "colab_type": "code",
        "colab": {}
      },
      "source": [
        "test[\"Total_Income\"]=test.ApplicantIncome+test.CoapplicantIncome"
      ],
      "execution_count": 0,
      "outputs": []
    },
    {
      "cell_type": "code",
      "metadata": {
        "id": "2L16W3SuM35-",
        "colab_type": "code",
        "outputId": "9a92e6a8-68f4-4288-8c3c-5f9968c1b177",
        "colab": {
          "base_uri": "https://localhost:8080/",
          "height": 302
        }
      },
      "source": [
        "sns.distplot(train.Total_Income)"
      ],
      "execution_count": 0,
      "outputs": [
        {
          "output_type": "execute_result",
          "data": {
            "text/plain": [
              "<matplotlib.axes._subplots.AxesSubplot at 0x7f46e7d181d0>"
            ]
          },
          "metadata": {
            "tags": []
          },
          "execution_count": 102
        },
        {
          "output_type": "display_data",
          "data": {
            "image/png": "[encoded data removed]",
            "text/plain": [
              "<Figure size 432x288 with 1 Axes>"
            ]
          },
          "metadata": {
            "tags": []
          }
        }
      ]
    },
    {
      "cell_type": "code",
      "metadata": {
        "id": "3YAaOSqrM8u9",
        "colab_type": "code",
        "colab": {}
      },
      "source": [
        "# log transformation\n",
        "train[\"Total_Income_log\"]=np.log(train.Total_Income)"
      ],
      "execution_count": 0,
      "outputs": []
    },
    {
      "cell_type": "code",
      "metadata": {
        "id": "qapXAloqS_Hn",
        "colab_type": "code",
        "colab": {}
      },
      "source": [
        "test[\"Total_Income_log\"]=np.log(test.Total_Income)"
      ],
      "execution_count": 0,
      "outputs": []
    },
    {
      "cell_type": "code",
      "metadata": {
        "id": "Zb6A5GVrNIQq",
        "colab_type": "code",
        "outputId": "ecf9bf41-90a7-4ca1-90d4-9853ef0864ae",
        "colab": {
          "base_uri": "https://localhost:8080/",
          "height": 35
        }
      },
      "source": [
        "train.shape"
      ],
      "execution_count": 0,
      "outputs": [
        {
          "output_type": "execute_result",
          "data": {
            "text/plain": [
              "(614, 18)"
            ]
          },
          "metadata": {
            "tags": []
          },
          "execution_count": 115
        }
      ]
    },
    {
      "cell_type": "code",
      "metadata": {
        "id": "bDV7zNnDNMO_",
        "colab_type": "code",
        "outputId": "477cc688-bc3f-4581-936d-6ccba414234a",
        "colab": {
          "base_uri": "https://localhost:8080/",
          "height": 35
        }
      },
      "source": [
        "test.shape"
      ],
      "execution_count": 0,
      "outputs": [
        {
          "output_type": "execute_result",
          "data": {
            "text/plain": [
              "(367, 17)"
            ]
          },
          "metadata": {
            "tags": []
          },
          "execution_count": 117
        }
      ]
    },
    {
      "cell_type": "markdown",
      "metadata": {
        "id": "Lko_NovOTqty",
        "colab_type": "text"
      },
      "source": [
        "## MODEL BUILDING"
      ]
    },
    {
      "cell_type": "code",
      "metadata": {
        "id": "5xwwesWpTFkI",
        "colab_type": "code",
        "colab": {}
      },
      "source": [
        "from sklearn.preprocessing import StandardScaler\n",
        "sc=StandardScaler()"
      ],
      "execution_count": 0,
      "outputs": []
    },
    {
      "cell_type": "code",
      "metadata": {
        "id": "zAL950xZaUbR",
        "colab_type": "code",
        "outputId": "9e4e5ed7-6dab-4867-f13e-e33fb597df7d",
        "colab": {
          "base_uri": "https://localhost:8080/",
          "height": 104
        }
      },
      "source": [
        "newtrain.columns"
      ],
      "execution_count": 0,
      "outputs": [
        {
          "output_type": "execute_result",
          "data": {
            "text/plain": [
              "Index(['Gender', 'Married', 'Dependents', 'Education', 'Self_Employed',\n",
              "       'ApplicantIncome', 'CoapplicantIncome', 'LoanAmount',\n",
              "       'Loan_Amount_Term', 'Credit_History', 'Property_Area', 'EMI',\n",
              "       'LoanAmount_Log', 'EMI_log', 'Total_Income', 'Total_Income_log'],\n",
              "      dtype='object')"
            ]
          },
          "metadata": {
            "tags": []
          },
          "execution_count": 163
        }
      ]
    },
    {
      "cell_type": "code",
      "metadata": {
        "id": "_wuibxxXT4QP",
        "colab_type": "code",
        "colab": {}
      },
      "source": [
        "newtrain=train.drop([\"Loan_ID\",\"Loan_Status\",\"ApplicantIncome\",\"CoapplicantIncome\", \"LoanAmount\",\"EMI\",\"Total_Income\" ],axis=1)"
      ],
      "execution_count": 0,
      "outputs": []
    },
    {
      "cell_type": "code",
      "metadata": {
        "id": "YWrUcsc5UBzV",
        "colab_type": "code",
        "colab": {}
      },
      "source": [
        "newtest=test.drop([\"Loan_ID\",\"ApplicantIncome\",\"CoapplicantIncome\", \"LoanAmount\",\"EMI\",\"Total_Income\" ],axis=1)"
      ],
      "execution_count": 0,
      "outputs": []
    },
    {
      "cell_type": "code",
      "metadata": {
        "id": "jw5MQiu2UJuZ",
        "colab_type": "code",
        "colab": {}
      },
      "source": [
        "dummytrain=pd.get_dummies(newtrain)"
      ],
      "execution_count": 0,
      "outputs": []
    },
    {
      "cell_type": "code",
      "metadata": {
        "id": "mGPrtJ2PULtc",
        "colab_type": "code",
        "outputId": "f2de7b63-4732-4caa-979c-40fd7cab30f6",
        "colab": {
          "base_uri": "https://localhost:8080/",
          "height": 35
        }
      },
      "source": [
        "dummytrain.shape"
      ],
      "execution_count": 0,
      "outputs": [
        {
          "output_type": "execute_result",
          "data": {
            "text/plain": [
              "(614, 20)"
            ]
          },
          "metadata": {
            "tags": []
          },
          "execution_count": 167
        }
      ]
    },
    {
      "cell_type": "code",
      "metadata": {
        "id": "xK4_8SphUcJn",
        "colab_type": "code",
        "colab": {}
      },
      "source": [
        "dummytest=pd.get_dummies(newtest)"
      ],
      "execution_count": 0,
      "outputs": []
    },
    {
      "cell_type": "code",
      "metadata": {
        "id": "Bitc2MZEUi-V",
        "colab_type": "code",
        "outputId": "2d6e2e22-46c6-438e-942e-50cf6cbd0d9e",
        "colab": {
          "base_uri": "https://localhost:8080/",
          "height": 35
        }
      },
      "source": [
        "dummytest.shape"
      ],
      "execution_count": 0,
      "outputs": [
        {
          "output_type": "execute_result",
          "data": {
            "text/plain": [
              "(367, 20)"
            ]
          },
          "metadata": {
            "tags": []
          },
          "execution_count": 169
        }
      ]
    },
    {
      "cell_type": "code",
      "metadata": {
        "id": "porQnyv9UlHD",
        "colab_type": "code",
        "colab": {}
      },
      "source": [
        "scaled_train=pd.DataFrame(sc.fit_transform(dummytrain),columns=dummytrain.columns)"
      ],
      "execution_count": 0,
      "outputs": []
    },
    {
      "cell_type": "code",
      "metadata": {
        "id": "bjPcYGPEVQBE",
        "colab_type": "code",
        "colab": {}
      },
      "source": [
        "scaled_test=pd.DataFrame(sc.fit_transform(dummytest),columns=dummytest.columns)"
      ],
      "execution_count": 0,
      "outputs": []
    },
    {
      "cell_type": "code",
      "metadata": {
        "id": "pbCuRYmiVUeW",
        "colab_type": "code",
        "colab": {}
      },
      "source": [
        "from sklearn.ensemble import RandomForestClassifier"
      ],
      "execution_count": 0,
      "outputs": []
    },
    {
      "cell_type": "code",
      "metadata": {
        "id": "4Hacvyz7VY-U",
        "colab_type": "code",
        "colab": {}
      },
      "source": [
        "rf=RandomForestClassifier()"
      ],
      "execution_count": 0,
      "outputs": []
    },
    {
      "cell_type": "code",
      "metadata": {
        "id": "q2lzgrYmZ9Z9",
        "colab_type": "code",
        "colab": {}
      },
      "source": [
        "x=scaled_train\n",
        "y=train.Loan_Status"
      ],
      "execution_count": 0,
      "outputs": []
    },
    {
      "cell_type": "code",
      "metadata": {
        "id": "mVNdbXfLWERG",
        "colab_type": "code",
        "colab": {}
      },
      "source": [
        "pred2=rf.fit(x, y).predict(scaled_test)  "
      ],
      "execution_count": 0,
      "outputs": []
    },
    {
      "cell_type": "markdown",
      "metadata": {
        "id": "YxfsNO0nd_Dl",
        "colab_type": "text"
      },
      "source": [
        "## Accuracy Score:\n",
        "\n",
        "Using Random Forest model, getting accuracy of 0.7708333333333334."
      ]
    },
    {
      "cell_type": "code",
      "metadata": {
        "id": "ZaxZocNfVeAS",
        "colab_type": "code",
        "colab": {}
      },
      "source": [
        "from sklearn.tree import DecisionTreeClassifier"
      ],
      "execution_count": 0,
      "outputs": []
    },
    {
      "cell_type": "code",
      "metadata": {
        "id": "-S56MrUgVt4q",
        "colab_type": "code",
        "colab": {}
      },
      "source": [
        "dtree=DecisionTreeClassifier()"
      ],
      "execution_count": 0,
      "outputs": []
    },
    {
      "cell_type": "code",
      "metadata": {
        "id": "C31W1NLQW-QQ",
        "colab_type": "code",
        "colab": {}
      },
      "source": [
        "pred_tree=dtree.fit(scaled_train,train.Loan_Status).predict(scaled_test)  "
      ],
      "execution_count": 0,
      "outputs": []
    },
    {
      "cell_type": "markdown",
      "metadata": {
        "id": "d2ExOIKVeMpP",
        "colab_type": "text"
      },
      "source": [
        "## Accuracy Score:\n",
        "\n",
        "Using Decision Tree, getting accuracy score of 0.6388888889"
      ]
    },
    {
      "cell_type": "code",
      "metadata": {
        "id": "NPyuep9PXHG5",
        "colab_type": "code",
        "colab": {}
      },
      "source": [
        "def revloanstat(x):\n",
        "  if(x==1):\n",
        "    return(\"Y\")\n",
        "  else:\n",
        "    return(\"N\")"
      ],
      "execution_count": 0,
      "outputs": []
    },
    {
      "cell_type": "code",
      "metadata": {
        "id": "Gvf-tM1UXdQb",
        "colab_type": "code",
        "colab": {}
      },
      "source": [
        "predlist=[]\n",
        "for i in range(len(pred2)):\n",
        "  if(pred2[i]==1):\n",
        "    predlist.append(\"Y\")\n",
        "  else:\n",
        "    predlist.append(\"N\")"
      ],
      "execution_count": 0,
      "outputs": []
    },
    {
      "cell_type": "code",
      "metadata": {
        "id": "6r2tRxl2bgtZ",
        "colab_type": "code",
        "outputId": "315776a5-b09c-48c4-f3d4-dd72dacf71d4",
        "colab": {
          "base_uri": "https://localhost:8080/",
          "height": 1000
        }
      },
      "source": [
        "predlist"
      ],
      "execution_count": 0,
      "outputs": [
        {
          "output_type": "execute_result",
          "data": {
            "text/plain": [
              "['Y',\n",
              " 'Y',\n",
              " 'Y',\n",
              " 'Y',\n",
              " 'Y',\n",
              " 'Y',\n",
              " 'Y',\n",
              " 'N',\n",
              " 'Y',\n",
              " 'Y',\n",
              " 'Y',\n",
              " 'Y',\n",
              " 'Y',\n",
              " 'N',\n",
              " 'Y',\n",
              " 'Y',\n",
              " 'Y',\n",
              " 'Y',\n",
              " 'Y',\n",
              " 'Y',\n",
              " 'Y',\n",
              " 'Y',\n",
              " 'Y',\n",
              " 'Y',\n",
              " 'Y',\n",
              " 'N',\n",
              " 'Y',\n",
              " 'Y',\n",
              " 'Y',\n",
              " 'Y',\n",
              " 'Y',\n",
              " 'N',\n",
              " 'Y',\n",
              " 'Y',\n",
              " 'Y',\n",
              " 'N',\n",
              " 'Y',\n",
              " 'Y',\n",
              " 'Y',\n",
              " 'Y',\n",
              " 'Y',\n",
              " 'Y',\n",
              " 'Y',\n",
              " 'Y',\n",
              " 'Y',\n",
              " 'Y',\n",
              " 'Y',\n",
              " 'Y',\n",
              " 'Y',\n",
              " 'Y',\n",
              " 'Y',\n",
              " 'Y',\n",
              " 'Y',\n",
              " 'Y',\n",
              " 'Y',\n",
              " 'N',\n",
              " 'Y',\n",
              " 'Y',\n",
              " 'N',\n",
              " 'Y',\n",
              " 'Y',\n",
              " 'Y',\n",
              " 'N',\n",
              " 'N',\n",
              " 'Y',\n",
              " 'Y',\n",
              " 'N',\n",
              " 'N',\n",
              " 'Y',\n",
              " 'N',\n",
              " 'Y',\n",
              " 'Y',\n",
              " 'Y',\n",
              " 'Y',\n",
              " 'Y',\n",
              " 'Y',\n",
              " 'Y',\n",
              " 'Y',\n",
              " 'Y',\n",
              " 'Y',\n",
              " 'N',\n",
              " 'Y',\n",
              " 'N',\n",
              " 'Y',\n",
              " 'N',\n",
              " 'Y',\n",
              " 'Y',\n",
              " 'Y',\n",
              " 'Y',\n",
              " 'N',\n",
              " 'Y',\n",
              " 'Y',\n",
              " 'Y',\n",
              " 'Y',\n",
              " 'N',\n",
              " 'Y',\n",
              " 'N',\n",
              " 'Y',\n",
              " 'Y',\n",
              " 'Y',\n",
              " 'Y',\n",
              " 'N',\n",
              " 'Y',\n",
              " 'N',\n",
              " 'Y',\n",
              " 'Y',\n",
              " 'N',\n",
              " 'Y',\n",
              " 'Y',\n",
              " 'Y',\n",
              " 'Y',\n",
              " 'Y',\n",
              " 'Y',\n",
              " 'Y',\n",
              " 'Y',\n",
              " 'Y',\n",
              " 'Y',\n",
              " 'N',\n",
              " 'N',\n",
              " 'N',\n",
              " 'Y',\n",
              " 'Y',\n",
              " 'Y',\n",
              " 'N',\n",
              " 'N',\n",
              " 'Y',\n",
              " 'N',\n",
              " 'Y',\n",
              " 'Y',\n",
              " 'Y',\n",
              " 'Y',\n",
              " 'N',\n",
              " 'Y',\n",
              " 'Y',\n",
              " 'Y',\n",
              " 'Y',\n",
              " 'Y',\n",
              " 'Y',\n",
              " 'Y',\n",
              " 'Y',\n",
              " 'N',\n",
              " 'Y',\n",
              " 'N',\n",
              " 'Y',\n",
              " 'Y',\n",
              " 'N',\n",
              " 'Y',\n",
              " 'N',\n",
              " 'Y',\n",
              " 'Y',\n",
              " 'Y',\n",
              " 'Y',\n",
              " 'Y',\n",
              " 'N',\n",
              " 'N',\n",
              " 'Y',\n",
              " 'Y',\n",
              " 'Y',\n",
              " 'Y',\n",
              " 'N',\n",
              " 'Y',\n",
              " 'N',\n",
              " 'Y',\n",
              " 'Y',\n",
              " 'Y',\n",
              " 'N',\n",
              " 'N',\n",
              " 'Y',\n",
              " 'N',\n",
              " 'N',\n",
              " 'Y',\n",
              " 'Y',\n",
              " 'Y',\n",
              " 'N',\n",
              " 'N',\n",
              " 'Y',\n",
              " 'Y',\n",
              " 'Y',\n",
              " 'Y',\n",
              " 'Y',\n",
              " 'Y',\n",
              " 'Y',\n",
              " 'Y',\n",
              " 'Y',\n",
              " 'Y',\n",
              " 'Y',\n",
              " 'Y',\n",
              " 'Y',\n",
              " 'N',\n",
              " 'N',\n",
              " 'Y',\n",
              " 'Y',\n",
              " 'N',\n",
              " 'N',\n",
              " 'Y',\n",
              " 'Y',\n",
              " 'N',\n",
              " 'Y',\n",
              " 'N',\n",
              " 'Y',\n",
              " 'Y',\n",
              " 'Y',\n",
              " 'Y',\n",
              " 'Y',\n",
              " 'Y',\n",
              " 'Y',\n",
              " 'Y',\n",
              " 'Y',\n",
              " 'Y',\n",
              " 'N',\n",
              " 'Y',\n",
              " 'N',\n",
              " 'Y',\n",
              " 'Y',\n",
              " 'N',\n",
              " 'Y',\n",
              " 'Y',\n",
              " 'Y',\n",
              " 'Y',\n",
              " 'Y',\n",
              " 'Y',\n",
              " 'Y',\n",
              " 'Y',\n",
              " 'Y',\n",
              " 'N',\n",
              " 'Y',\n",
              " 'Y',\n",
              " 'Y',\n",
              " 'Y',\n",
              " 'N',\n",
              " 'Y',\n",
              " 'Y',\n",
              " 'Y',\n",
              " 'Y',\n",
              " 'N',\n",
              " 'N',\n",
              " 'N',\n",
              " 'N',\n",
              " 'Y',\n",
              " 'Y',\n",
              " 'Y',\n",
              " 'N',\n",
              " 'Y',\n",
              " 'N',\n",
              " 'Y',\n",
              " 'N',\n",
              " 'Y',\n",
              " 'Y',\n",
              " 'Y',\n",
              " 'Y',\n",
              " 'N',\n",
              " 'Y',\n",
              " 'Y',\n",
              " 'Y',\n",
              " 'Y',\n",
              " 'N',\n",
              " 'N',\n",
              " 'Y',\n",
              " 'Y',\n",
              " 'N',\n",
              " 'Y',\n",
              " 'Y',\n",
              " 'Y',\n",
              " 'N',\n",
              " 'N',\n",
              " 'Y',\n",
              " 'N',\n",
              " 'N',\n",
              " 'N',\n",
              " 'Y',\n",
              " 'Y',\n",
              " 'N',\n",
              " 'N',\n",
              " 'N',\n",
              " 'N',\n",
              " 'Y',\n",
              " 'Y',\n",
              " 'Y',\n",
              " 'N',\n",
              " 'Y',\n",
              " 'Y',\n",
              " 'Y',\n",
              " 'Y',\n",
              " 'N',\n",
              " 'Y',\n",
              " 'Y',\n",
              " 'Y',\n",
              " 'Y',\n",
              " 'Y',\n",
              " 'Y',\n",
              " 'Y',\n",
              " 'Y',\n",
              " 'N',\n",
              " 'N',\n",
              " 'Y',\n",
              " 'Y',\n",
              " 'Y',\n",
              " 'N',\n",
              " 'Y',\n",
              " 'Y',\n",
              " 'Y',\n",
              " 'N',\n",
              " 'N',\n",
              " 'Y',\n",
              " 'Y',\n",
              " 'N',\n",
              " 'Y',\n",
              " 'Y',\n",
              " 'Y',\n",
              " 'Y',\n",
              " 'Y',\n",
              " 'N',\n",
              " 'Y',\n",
              " 'Y',\n",
              " 'N',\n",
              " 'Y',\n",
              " 'N',\n",
              " 'N',\n",
              " 'Y',\n",
              " 'Y',\n",
              " 'N',\n",
              " 'Y',\n",
              " 'Y',\n",
              " 'Y',\n",
              " 'Y',\n",
              " 'N',\n",
              " 'Y',\n",
              " 'Y',\n",
              " 'Y',\n",
              " 'Y',\n",
              " 'Y',\n",
              " 'Y',\n",
              " 'Y',\n",
              " 'Y',\n",
              " 'Y',\n",
              " 'Y',\n",
              " 'Y',\n",
              " 'Y',\n",
              " 'Y',\n",
              " 'N',\n",
              " 'Y',\n",
              " 'Y',\n",
              " 'N',\n",
              " 'Y',\n",
              " 'Y',\n",
              " 'Y',\n",
              " 'N',\n",
              " 'Y',\n",
              " 'Y',\n",
              " 'Y',\n",
              " 'Y',\n",
              " 'Y',\n",
              " 'Y',\n",
              " 'Y',\n",
              " 'N',\n",
              " 'Y',\n",
              " 'Y',\n",
              " 'Y',\n",
              " 'N',\n",
              " 'Y',\n",
              " 'Y',\n",
              " 'Y',\n",
              " 'Y',\n",
              " 'Y',\n",
              " 'Y',\n",
              " 'Y',\n",
              " 'Y']"
            ]
          },
          "metadata": {
            "tags": []
          },
          "execution_count": 185
        }
      ]
    },
    {
      "cell_type": "code",
      "metadata": {
        "id": "53Xw1PIZYKP_",
        "colab_type": "code",
        "colab": {}
      },
      "source": [
        "solution = pd.DataFrame({\"Loan_ID\":test.Loan_ID, \"Loan_Status\":predlist})"
      ],
      "execution_count": 0,
      "outputs": []
    },
    {
      "cell_type": "code",
      "metadata": {
        "id": "vOsatdptYo0O",
        "colab_type": "code",
        "colab": {}
      },
      "source": [
        "from google.colab import files\n",
        "solution.to_csv(\"loanPredictionRandom.csv\", index=False)\n",
        "files.download(\"loanPredictionRandom.csv\")"
      ],
      "execution_count": 0,
      "outputs": []
    }
  ]
}